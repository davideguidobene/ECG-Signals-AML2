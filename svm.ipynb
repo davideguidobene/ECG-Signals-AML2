{
 "cells": [
  {
   "cell_type": "code",
   "execution_count": 1,
   "metadata": {},
   "outputs": [],
   "source": [
    "from sklearn.feature_selection import SelectKBest, f_classif\n",
    "from sklearn.model_selection import cross_val_score\n",
    "import pandas as pd\n",
    "import numpy as np\n",
    "from sklearn.model_selection import train_test_split\n",
    "from tslearn.utils import to_time_series_dataset\n",
    "import biosppy.signals.ecg as ecg\n",
    "import matplotlib.pyplot as plt\n",
    "import neurokit2 as nk\n",
    "import heartpy as hp\n",
    "from statistics import mean\n",
    "import functions\n",
    "from multiprocessing import Pool\n",
    "from datetime import time\n",
    "import functions\n",
    "import scipy\n",
    "import math\n",
    "import operator\n",
    "from functions import *\n",
    "import itertools"
   ]
  },
  {
   "cell_type": "code",
   "execution_count": 2,
   "metadata": {},
   "outputs": [],
   "source": [
    "folder = \"\"\n",
    "raw = folder + \"raw_data/\"\n",
    "x_train = pd.read_csv('x_train_preprocess.csv')\n",
    "x_test = pd.read_csv('x_test_preprocess.csv')\n",
    "y_train = pd.read_csv(raw + 'y_train.csv', index_col=['id'])\n",
    "x_train = x_train.fillna(0)\n",
    "x_test = x_test.fillna(0)"
   ]
  },
  {
   "cell_type": "code",
   "execution_count": 3,
   "metadata": {},
   "outputs": [
    {
     "name": "stdout",
     "output_type": "stream",
     "text": [
      "<class 'pandas.core.frame.DataFrame'>\n",
      "RangeIndex: 5117 entries, 0 to 5116\n",
      "Columns: 1074 entries, Unnamed: 0.1 to 63\n",
      "dtypes: float64(1071), int64(3)\n",
      "memory usage: 41.9 MB\n"
     ]
    }
   ],
   "source": [
    "x_train.info()"
   ]
  },
  {
   "cell_type": "code",
   "execution_count": 4,
   "metadata": {},
   "outputs": [
    {
     "name": "stderr",
     "output_type": "stream",
     "text": [
      "C:\\Users\\david\\anaconda3\\envs\\preprocessing.ipynb\\lib\\site-packages\\sklearn\\feature_selection\\_univariate_selection.py:112: UserWarning: Features [73] are constant.\n",
      "  warnings.warn(\"Features %s are constant.\" % constant_features_idx, UserWarning)\n"
     ]
    }
   ],
   "source": [
    "selector = SelectKBest(score_func=f_classif, k=150)\n",
    "selector.fit(np.array(x_train), np.array(y_train).squeeze())\n",
    "cols = selector.get_support(indices=True)"
   ]
  },
  {
   "cell_type": "code",
   "execution_count": 5,
   "metadata": {},
   "outputs": [],
   "source": [
    "#scale data\n",
    "from sklearn.preprocessing import StandardScaler\n",
    "from sklearn.preprocessing import MinMaxScaler\n",
    "\n",
    "scaler = StandardScaler()\n",
    "x_train = scaler.fit_transform(x_train)\n",
    "x_test = scaler.transform(x_test)"
   ]
  },
  {
   "cell_type": "code",
   "execution_count": 6,
   "metadata": {},
   "outputs": [],
   "source": [
    "from sklearn import svm\n",
    "svm_model = svm.SVC(random_state=1733979241, probability=True)"
   ]
  },
  {
   "cell_type": "code",
   "execution_count": 7,
   "metadata": {},
   "outputs": [],
   "source": [
    "import pickle\n",
    "filename = 'models/svm_model.sav'\n",
    "pickle.dump(svm_model, open(filename, 'wb'))\n"
   ]
  },
  {
   "cell_type": "code",
   "execution_count": 8,
   "metadata": {},
   "outputs": [
    {
     "ename": "NameError",
     "evalue": "name 'stop' is not defined",
     "output_type": "error",
     "traceback": [
      "\u001b[1;31m---------------------------------------------------------------------------\u001b[0m",
      "\u001b[1;31mNameError\u001b[0m                                 Traceback (most recent call last)",
      "Input \u001b[1;32mIn [8]\u001b[0m, in \u001b[0;36m<cell line: 1>\u001b[1;34m()\u001b[0m\n\u001b[1;32m----> 1\u001b[0m \u001b[43mstop\u001b[49m\n",
      "\u001b[1;31mNameError\u001b[0m: name 'stop' is not defined"
     ]
    }
   ],
   "source": [
    "stop;"
   ]
  },
  {
   "cell_type": "code",
   "execution_count": null,
   "metadata": {},
   "outputs": [],
   "source": [
    "#cross validation score\n",
    "scores = cross_val_score(svm_model, x_train, np.ravel(y_train), cv=10, scoring='f1_micro', n_jobs=-1, verbose=1)\n",
    "print(scores.mean())\n",
    "print(scores.std())\n",
    "#0.6738265961350293 / 0.013598950995017234 StandardScaler\n",
    "#0.6011325067270058 / 0.004216629008159178 MinMaxScaler\n",
    "#0.6820350721624268 / 0.010050291146522606 new preprocessing\n",
    "#0.6947391756360078 / 0.011488590054798726 new new preprocessing\n",
    "#0.7396824547455968 / 0.01680257443527899 1000 feat"
   ]
  },
  {
   "cell_type": "code",
   "execution_count": 9,
   "metadata": {},
   "outputs": [],
   "source": [
    "svm_model.fit(x_train, np.ravel(y_train))\n",
    "y_test = svm_model.predict(x_test)\n",
    "data_y_test = {\n",
    "    'id': [i for i in range(len(y_test))],\n",
    "    'y': y_test\n",
    "}\n",
    "df_y_test = pd.DataFrame(data_y_test)\n",
    "df_y_test.to_csv('outputs/output_svm.csv', index=False)"
   ]
  },
  {
   "cell_type": "code",
   "execution_count": null,
   "metadata": {},
   "outputs": [],
   "source": [
    "model = xgb.Booster()\n",
    "model.load_model('to_test.model')\n",
    "dtest = xgb.DMatrix(np.stack(X_test))\n",
    "y_pred = model.predict(dtest)"
   ]
  }
 ],
 "metadata": {
  "kernelspec": {
   "display_name": "Python 3 (ipykernel)",
   "language": "python",
   "name": "python3"
  },
  "language_info": {
   "codemirror_mode": {
    "name": "ipython",
    "version": 3
   },
   "file_extension": ".py",
   "mimetype": "text/x-python",
   "name": "python",
   "nbconvert_exporter": "python",
   "pygments_lexer": "ipython3",
   "version": "3.10.13"
  },
  "vscode": {
   "interpreter": {
    "hash": "57fe57f2cdf78f92aee3d99b2913a1180873ba5e033bb181342afa13c0f35957"
   }
  }
 },
 "nbformat": 4,
 "nbformat_minor": 2
}
